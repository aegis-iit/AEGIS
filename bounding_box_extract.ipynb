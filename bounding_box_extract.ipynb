{
  "nbformat": 4,
  "nbformat_minor": 0,
  "metadata": {
    "colab": {
      "name": "bounding_box_extract.ipynb",
      "version": "0.3.2",
      "provenance": [],
      "include_colab_link": true
    },
    "kernelspec": {
      "name": "python3",
      "display_name": "Python 3"
    },
    "accelerator": "GPU"
  },
  "cells": [
    {
      "cell_type": "markdown",
      "metadata": {
        "id": "view-in-github",
        "colab_type": "text"
      },
      "source": [
        "<a href=\"https://colab.research.google.com/github/aegis-iit/AEGIS/blob/master/bounding_box_extract.ipynb\" target=\"_parent\"><img src=\"https://colab.research.google.com/assets/colab-badge.svg\" alt=\"Open In Colab\"/></a>"
      ]
    },
    {
      "cell_type": "code",
      "metadata": {
        "id": "UKyVMUyM8xW4",
        "colab_type": "code",
        "outputId": "ab6cb061-9c46-41cc-ea1f-8d0b05e17de0",
        "colab": {
          "base_uri": "https://localhost:8080/",
          "height": 34
        }
      },
      "source": [
        "from google.colab import drive\n",
        "drive.mount('/content/gdrive')\n"
      ],
      "execution_count": 0,
      "outputs": [
        {
          "output_type": "stream",
          "text": [
            "Drive already mounted at /content/gdrive; to attempt to forcibly remount, call drive.mount(\"/content/gdrive\", force_remount=True).\n"
          ],
          "name": "stdout"
        }
      ]
    },
    {
      "cell_type": "code",
      "metadata": {
        "id": "qZe_ZRlT-A7m",
        "colab_type": "code",
        "colab": {}
      },
      "source": [
        "import os\n",
        "os.chdir(\"gdrive/My Drive/Aegis\")"
      ],
      "execution_count": 0,
      "outputs": []
    },
    {
      "cell_type": "code",
      "metadata": {
        "id": "_ENKxyJB9Qrz",
        "colab_type": "code",
        "colab": {}
      },
      "source": [
        "%matplotlib inline\n",
        "from pycocotools.coco import COCO\n",
        "import numpy as np\n",
        "import skimage.io as io\n",
        "import matplotlib.pyplot as plt\n",
        "import pylab\n",
        "import math\n",
        "import shutil\n",
        "import cv2\n",
        "pylab.rcParams['figure.figsize'] = (8.0, 10.0)"
      ],
      "execution_count": 0,
      "outputs": []
    },
    {
      "cell_type": "code",
      "metadata": {
        "id": "3bJXgw6K9X6A",
        "colab_type": "code",
        "colab": {}
      },
      "source": [
        "dataDir='annotations/'\n",
        "dataType='val2017'\n",
        "annFile='{}/annotations/instances_{}.json'.format(dataDir,dataType)"
      ],
      "execution_count": 0,
      "outputs": []
    },
    {
      "cell_type": "code",
      "metadata": {
        "id": "WyAd19aFHONJ",
        "colab_type": "code",
        "outputId": "3f447249-b5b9-4112-e331-6b2265ea12a6",
        "colab": {
          "base_uri": "https://localhost:8080/",
          "height": 85
        }
      },
      "source": [
        "coco=COCO(annFile)"
      ],
      "execution_count": 0,
      "outputs": [
        {
          "output_type": "stream",
          "text": [
            "loading annotations into memory...\n",
            "Done (t=0.49s)\n",
            "creating index...\n",
            "index created!\n"
          ],
          "name": "stdout"
        }
      ]
    },
    {
      "cell_type": "code",
      "metadata": {
        "id": "VtCGy_c9HV1B",
        "colab_type": "code",
        "colab": {}
      },
      "source": [
        "catIds = coco.getCatIds(catNms=['cat','laptop'])"
      ],
      "execution_count": 0,
      "outputs": []
    },
    {
      "cell_type": "code",
      "metadata": {
        "id": "oQas_J6NHa55",
        "colab_type": "code",
        "colab": {}
      },
      "source": [
        "ann_ids = coco.getAnnIds(catIds= catIds)\n",
        "anns = coco.loadAnns(ann_ids)"
      ],
      "execution_count": 0,
      "outputs": []
    },
    {
      "cell_type": "code",
      "metadata": {
        "id": "A-ALvcV-Hd2q",
        "colab_type": "code",
        "outputId": "4ad1beac-22bf-4786-ea8c-0fcbb3a6852d",
        "colab": {
          "base_uri": "https://localhost:8080/",
          "height": 34
        }
      },
      "source": [
        "print(len(anns))"
      ],
      "execution_count": 0,
      "outputs": [
        {
          "output_type": "stream",
          "text": [
            "433\n"
          ],
          "name": "stdout"
        }
      ]
    },
    {
      "cell_type": "code",
      "metadata": {
        "id": "2LdfsRPFHim5",
        "colab_type": "code",
        "outputId": "946aecb7-4408-4058-9a5d-e60afc020899",
        "colab": {
          "base_uri": "https://localhost:8080/",
          "height": 102
        }
      },
      "source": [
        "anns_ = anns[0:5]\n",
        "for a in anns_:\n",
        "  print(a.keys())"
      ],
      "execution_count": 0,
      "outputs": [
        {
          "output_type": "stream",
          "text": [
            "dict_keys(['segmentation', 'area', 'iscrowd', 'image_id', 'bbox', 'category_id', 'id'])\n",
            "dict_keys(['segmentation', 'area', 'iscrowd', 'image_id', 'bbox', 'category_id', 'id'])\n",
            "dict_keys(['segmentation', 'area', 'iscrowd', 'image_id', 'bbox', 'category_id', 'id'])\n",
            "dict_keys(['segmentation', 'area', 'iscrowd', 'image_id', 'bbox', 'category_id', 'id'])\n",
            "dict_keys(['segmentation', 'area', 'iscrowd', 'image_id', 'bbox', 'category_id', 'id'])\n"
          ],
          "name": "stdout"
        }
      ]
    },
    {
      "cell_type": "code",
      "metadata": {
        "id": "qrST0hE_EuCy",
        "colab_type": "code",
        "colab": {}
      },
      "source": [
        "path_images = \"./images/val/val2017/\""
      ],
      "execution_count": 0,
      "outputs": []
    },
    {
      "cell_type": "code",
      "metadata": {
        "id": "wwYDZwbOHl-p",
        "colab_type": "code",
        "colab": {}
      },
      "source": [
        "for i, a in enumerate(anns):\n",
        "  box = a['bbox']\n",
        "  box = [math.floor(b) for b in box]\n",
        "#   print(box)\n",
        "#   imgIds = coco.getImgIds(catIds=catIds );\n",
        "#   img = coco.loadImgs(imgIds[np.random.randint(0,len(imgIds))])[0]\n",
        "#   I = io.imread('%s/%s/%s'%(dataDir,dataType,img['file_name']))\n",
        "  cocoimg = coco.loadImgs([a['image_id']])[0]\n",
        "#   print(cocoimg)\n",
        "  img = io.imread('{}{}'.format(path_images, cocoimg['file_name']))\n",
        "#   img = io.imread('%s/%s/%s'%(dataDir,dataType,cocoimg['file_name']))\n",
        "  bbox_img = img[ box[1]:(box[1] + box[3]), box[0]:(box[0] + box[2]) ]\n",
        "  cat_name = 'cat' if a['category_id'] == 17 else 'laptop'\n",
        "  cv2.imwrite(\"extracted_bbox/{}-{:03d}.jpg\".format(cat_name, i+1), bbox_img)"
      ],
      "execution_count": 0,
      "outputs": []
    },
    {
      "cell_type": "code",
      "metadata": {
        "id": "HzZy0oOstE_p",
        "colab_type": "code",
        "colab": {}
      },
      "source": [
        ""
      ],
      "execution_count": 0,
      "outputs": []
    }
  ]
}